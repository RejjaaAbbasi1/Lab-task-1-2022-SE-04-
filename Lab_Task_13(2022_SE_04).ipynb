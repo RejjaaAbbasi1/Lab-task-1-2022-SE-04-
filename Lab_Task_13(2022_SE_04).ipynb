{
  "cells": [
    {
      "cell_type": "code",
      "execution_count": 1,
      "id": "dfc5573b",
      "metadata": {
        "id": "dfc5573b"
      },
      "outputs": [],
      "source": [
        "import numpy as np\n",
        "import pandas as pd\n",
        "from sklearn.model_selection import train_test_split\n",
        "from sklearn.preprocessing import StandardScaler"
      ]
    },
    {
      "cell_type": "code",
      "execution_count": 2,
      "id": "adfda1f1",
      "metadata": {
        "colab": {
          "base_uri": "https://localhost:8080/"
        },
        "id": "adfda1f1",
        "outputId": "cdbaaac9-5f43-450e-e3f8-1512b9162f88"
      },
      "outputs": [
        {
          "output_type": "stream",
          "name": "stdout",
          "text": [
            "Dataset Head:\n",
            "    sepal_length  sepal_width  petal_length  petal_width species  species_id\n",
            "0           5.1          3.5           1.4          0.2  setosa           1\n",
            "1           4.9          3.0           1.4          0.2  setosa           1\n",
            "2           4.7          3.2           1.3          0.2  setosa           1\n",
            "3           4.6          3.1           1.5          0.2  setosa           1\n",
            "4           5.0          3.6           1.4          0.2  setosa           1\n"
          ]
        }
      ],
      "source": [
        "data = pd.read_csv('/content/iris.csv')\n",
        "print(\"Dataset Head:\\n\", data.head())"
      ]
    },
    {
      "cell_type": "code",
      "execution_count": 3,
      "id": "8f8765e6",
      "metadata": {
        "id": "8f8765e6"
      },
      "outputs": [],
      "source": [
        "# Convert categorical labels to numerical values\n",
        "class_mapping = {label: idx for idx, label in enumerate(data['species'].unique())}\n",
        "data['species'] = data['species'].map(class_mapping)"
      ]
    },
    {
      "cell_type": "code",
      "execution_count": 4,
      "id": "f3eeb607",
      "metadata": {
        "id": "f3eeb607"
      },
      "outputs": [],
      "source": [
        "X = data.drop(columns=['species']).values\n",
        "y = data['species'].values"
      ]
    },
    {
      "cell_type": "code",
      "execution_count": 5,
      "id": "46a8db3b",
      "metadata": {
        "id": "46a8db3b"
      },
      "outputs": [],
      "source": [
        "scaler = StandardScaler()\n",
        "X = scaler.fit_transform(X)"
      ]
    },
    {
      "cell_type": "code",
      "execution_count": 6,
      "id": "01e1cf15",
      "metadata": {
        "id": "01e1cf15"
      },
      "outputs": [],
      "source": [
        "X_train, X_test, y_train, y_test = train_test_split(X, y, test_size=0.2, random_state=42)"
      ]
    },
    {
      "cell_type": "code",
      "execution_count": 7,
      "id": "a6924867",
      "metadata": {
        "id": "a6924867"
      },
      "outputs": [],
      "source": [
        "def step_function(x):\n",
        "    return 1 if x >= 0 else 0"
      ]
    },
    {
      "cell_type": "code",
      "execution_count": 8,
      "id": "61d2b21b",
      "metadata": {
        "id": "61d2b21b"
      },
      "outputs": [],
      "source": [
        "def train_perceptron(X, y, learning_rate=0.1, epochs=10):\n",
        "    num_features = X.shape[1]\n",
        "    weights = np.zeros(num_features + 1)\n",
        "\n",
        "    for epoch in range(epochs):\n",
        "        total_error = 0\n",
        "        for i in range(len(X)):\n",
        "            x_with_bias = np.insert(X[i], 0, 1)\n",
        "            weighted_sum = np.dot(weights, x_with_bias)\n",
        "            y_pred = step_function(weighted_sum)\n",
        "            error = y[i] - y_pred\n",
        "            total_error += abs(error)\n",
        "            weights += learning_rate * error * x_with_bias\n",
        "\n",
        "        if total_error == 0:\n",
        "            break\n",
        "\n",
        "    return weights"
      ]
    },
    {
      "cell_type": "code",
      "execution_count": 9,
      "id": "0ce241d9",
      "metadata": {
        "id": "0ce241d9"
      },
      "outputs": [],
      "source": [
        "def predict(X, weights):\n",
        "    predictions = []\n",
        "    for i in range(len(X)):\n",
        "        x_with_bias = np.insert(X[i], 0, 1)\n",
        "        weighted_sum = np.dot(weights, x_with_bias)\n",
        "        y_pred = step_function(weighted_sum)\n",
        "        predictions.append(y_pred)\n",
        "    return predictions"
      ]
    },
    {
      "cell_type": "code",
      "execution_count": 10,
      "id": "d6faa881",
      "metadata": {
        "colab": {
          "base_uri": "https://localhost:8080/"
        },
        "id": "d6faa881",
        "outputId": "4cdddc77-6590-4f47-a877-b3b7000b7900"
      },
      "outputs": [
        {
          "output_type": "stream",
          "name": "stdout",
          "text": [
            "Trained Weights: [40.         31.51172417 -9.69578424 38.94352962 40.931918   47.88752447]\n"
          ]
        }
      ],
      "source": [
        "trained_weights = train_perceptron(X_train, y_train)\n",
        "print(\"Trained Weights:\", trained_weights)"
      ]
    },
    {
      "cell_type": "code",
      "execution_count": 11,
      "id": "8bc6f48c",
      "metadata": {
        "colab": {
          "base_uri": "https://localhost:8080/"
        },
        "id": "8bc6f48c",
        "outputId": "340c6478-3134-4153-a2b4-5fa31ebf2607"
      },
      "outputs": [
        {
          "output_type": "stream",
          "name": "stdout",
          "text": [
            "Predictions: [1, 0, 1, 1, 1, 0, 1, 1, 1, 1, 1, 0, 0, 0, 0, 1, 1, 1, 1, 1, 0, 1, 0, 1, 1, 1, 1, 1, 0, 0]\n"
          ]
        }
      ],
      "source": [
        "y_pred = predict(X_test, trained_weights)\n",
        "print(\"Predictions:\", y_pred)"
      ]
    }
  ],
  "metadata": {
    "colab": {
      "provenance": []
    },
    "kernelspec": {
      "display_name": "Python 3",
      "name": "python3"
    },
    "language_info": {
      "name": "python"
    }
  },
  "nbformat": 4,
  "nbformat_minor": 5
}